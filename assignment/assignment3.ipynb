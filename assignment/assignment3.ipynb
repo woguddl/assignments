{
 "cells": [
  {
   "cell_type": "code",
   "execution_count": 1,
   "id": "224cda37-74e4-4f56-81e2-26ba09aeaf29",
   "metadata": {
    "tags": []
   },
   "outputs": [],
   "source": [
    "hairstyles = [\"bouffant\", \"pixie\", \"dreadlocks\", \"crew\", \"bowl\", \"bob\", \"mohawk\", \"flattop\"]"
   ]
  },
  {
   "cell_type": "code",
   "execution_count": 2,
   "id": "082b78e8-c540-4b0b-8530-9a4eead81cd1",
   "metadata": {
    "tags": []
   },
   "outputs": [],
   "source": [
    "prices = [30, 25, 40, 20, 20, 35, 50, 35]"
   ]
  },
  {
   "cell_type": "code",
   "execution_count": 3,
   "id": "35c6ac21-3ece-48a7-8a9c-55c691a056f2",
   "metadata": {
    "tags": []
   },
   "outputs": [],
   "source": [
    "last_week = [2, 3, 5, 8, 4, 4, 6, 2]"
   ]
  },
  {
   "cell_type": "code",
   "execution_count": 4,
   "id": "be2e2d27-e467-4648-b9d4-fb6973c7e0af",
   "metadata": {
    "tags": []
   },
   "outputs": [],
   "source": [
    "total_price = 0\n",
    "for price in prices:\n",
    "    total_price += price"
   ]
  },
  {
   "cell_type": "code",
   "execution_count": 5,
   "id": "00c28e6c-f130-4d1a-a13a-d3ebea340121",
   "metadata": {
    "tags": []
   },
   "outputs": [],
   "source": [
    "average_price = total_price / len(prices)"
   ]
  },
  {
   "cell_type": "code",
   "execution_count": 6,
   "id": "c7679114-17f9-4ae3-af0e-119dd955e509",
   "metadata": {
    "tags": []
   },
   "outputs": [
    {
     "name": "stdout",
     "output_type": "stream",
     "text": [
      "Average price is 31.875\n"
     ]
    }
   ],
   "source": [
    "print(\"Average price is\", average_price)"
   ]
  },
  {
   "cell_type": "code",
   "execution_count": 7,
   "id": "655bdbf8-9b10-4576-8a6c-36b9b3c5e950",
   "metadata": {
    "tags": []
   },
   "outputs": [],
   "source": [
    "new_prices = [price - 5 for price in prices]"
   ]
  },
  {
   "cell_type": "code",
   "execution_count": 8,
   "id": "e2dc0570-989f-4a07-be91-9ff0df8eca87",
   "metadata": {
    "tags": []
   },
   "outputs": [
    {
     "name": "stdout",
     "output_type": "stream",
     "text": [
      "[25, 20, 35, 15, 15, 30, 45, 30]\n"
     ]
    }
   ],
   "source": [
    "print(new_prices)"
   ]
  },
  {
   "cell_type": "code",
   "execution_count": 9,
   "id": "cb29bed9-c3e0-4efa-a744-d6f6d86cb078",
   "metadata": {
    "tags": []
   },
   "outputs": [],
   "source": [
    "total_revenue = 0\n",
    "for i in range(len(hairstyles)):\n",
    "    total_revenue += prices[i] * last_week[i]"
   ]
  },
  {
   "cell_type": "code",
   "execution_count": 10,
   "id": "9360c27d-0bf4-444c-9afb-de19b15e7ef3",
   "metadata": {
    "tags": []
   },
   "outputs": [],
   "source": [
    "average_daily_revenue = total_revenue / 7"
   ]
  },
  {
   "cell_type": "code",
   "execution_count": 11,
   "id": "44e66732-7770-42d8-a6c3-4d454cf4f529",
   "metadata": {
    "tags": []
   },
   "outputs": [
    {
     "name": "stdout",
     "output_type": "stream",
     "text": [
      "Average daily revenue is 155.0\n"
     ]
    }
   ],
   "source": [
    "print(\"Average daily revenue is\", average_daily_revenue)"
   ]
  },
  {
   "cell_type": "code",
   "execution_count": 12,
   "id": "17d90474-2ae9-400b-b3db-392d5a710e2d",
   "metadata": {
    "tags": []
   },
   "outputs": [],
   "source": [
    "cuts_under_30 = [hairstyles[i] for i in range(len(new_prices)) if new_prices[i] < 30]"
   ]
  },
  {
   "cell_type": "code",
   "execution_count": 13,
   "id": "2e218627-3c00-469b-a0fd-5c44e791dc82",
   "metadata": {
    "tags": []
   },
   "outputs": [
    {
     "name": "stdout",
     "output_type": "stream",
     "text": [
      "['bouffant', 'pixie', 'crew', 'bowl']\n"
     ]
    }
   ],
   "source": [
    "print(cuts_under_30)"
   ]
  }
 ],
 "metadata": {
  "kernelspec": {
   "display_name": "Python 3 (ipykernel)",
   "language": "python",
   "name": "python3"
  },
  "language_info": {
   "codemirror_mode": {
    "name": "ipython",
    "version": 3
   },
   "file_extension": ".py",
   "mimetype": "text/x-python",
   "name": "python",
   "nbconvert_exporter": "python",
   "pygments_lexer": "ipython3",
   "version": "3.11.4"
  }
 },
 "nbformat": 4,
 "nbformat_minor": 5
}
