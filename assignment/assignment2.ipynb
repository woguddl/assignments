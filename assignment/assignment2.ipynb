{
 "cells": [
  {
   "cell_type": "code",
   "execution_count": 1,
   "id": "879b2f74-8d04-4184-bd79-8c4fb19131ab",
   "metadata": {
    "tags": []
   },
   "outputs": [],
   "source": [
    "subjects = [\"physics\", \"calculus\", \"poetry\", \"history\"]"
   ]
  },
  {
   "cell_type": "code",
   "execution_count": 2,
   "id": "ff30b8e8-05df-4684-8a27-1813233663c4",
   "metadata": {
    "tags": []
   },
   "outputs": [],
   "source": [
    "grades = [98, 97, 85, 88]"
   ]
  },
  {
   "cell_type": "code",
   "execution_count": 3,
   "id": "838d47da-2ff6-4873-b513-7760762cc6dd",
   "metadata": {
    "tags": []
   },
   "outputs": [],
   "source": [
    "gradebook = [[subjects[0], grades[0]], \n",
    "             [subjects[1], grades[1]], \n",
    "             [subjects[2], grades[2]], \n",
    "             [subjects[3], grades[3]]]"
   ]
  },
  {
   "cell_type": "code",
   "execution_count": 4,
   "id": "26fdec12-238f-4d77-9084-d0488fea3a15",
   "metadata": {
    "tags": []
   },
   "outputs": [
    {
     "name": "stdout",
     "output_type": "stream",
     "text": [
      "[['physics', 98], ['calculus', 97], ['poetry', 85], ['history', 88]]\n"
     ]
    }
   ],
   "source": [
    "print(gradebook)"
   ]
  },
  {
   "cell_type": "code",
   "execution_count": 5,
   "id": "198b25ce-5ea5-427a-957c-b9bf1a7fc6ab",
   "metadata": {
    "tags": []
   },
   "outputs": [],
   "source": [
    "gradebook.append([\"computer Science\", 100])\n",
    "gradebook.append([\"visual Arts\", 93])"
   ]
  },
  {
   "cell_type": "code",
   "execution_count": 6,
   "id": "8919cfa4-b0f0-47b3-913b-e6dae6ca3b42",
   "metadata": {
    "tags": []
   },
   "outputs": [
    {
     "name": "stdout",
     "output_type": "stream",
     "text": [
      "[['physics', 98], ['calculus', 97], ['poetry', 85], ['history', 88], ['computer Science', 100], ['visual Arts', 93]]\n"
     ]
    }
   ],
   "source": [
    "print(gradebook)"
   ]
  },
  {
   "cell_type": "code",
   "execution_count": 7,
   "id": "1d84279b-be5d-431a-90b7-32f396ac12f5",
   "metadata": {
    "tags": []
   },
   "outputs": [],
   "source": [
    "gradebook[5][1] += 5"
   ]
  },
  {
   "cell_type": "code",
   "execution_count": 8,
   "id": "d2a1930a-5376-45e2-bff8-7501bfd412e9",
   "metadata": {
    "tags": []
   },
   "outputs": [
    {
     "name": "stdout",
     "output_type": "stream",
     "text": [
      "[['physics', 98], ['calculus', 97], ['poetry', 85], ['history', 88], ['computer Science', 100], ['visual Arts', 98]]\n"
     ]
    }
   ],
   "source": [
    "print(gradebook)"
   ]
  },
  {
   "cell_type": "code",
   "execution_count": 9,
   "id": "4a7eeb49-37c8-4e53-9b52-90a43abe72b6",
   "metadata": {
    "tags": []
   },
   "outputs": [],
   "source": [
    "gradebook[2].remove(85)"
   ]
  },
  {
   "cell_type": "code",
   "execution_count": 10,
   "id": "3d346d37-db49-41c5-a3df-b0fdd1271bee",
   "metadata": {
    "tags": []
   },
   "outputs": [
    {
     "name": "stdout",
     "output_type": "stream",
     "text": [
      "[['physics', 98], ['calculus', 97], ['poetry'], ['history', 88], ['computer Science', 100], ['visual Arts', 98]]\n"
     ]
    }
   ],
   "source": [
    "print(gradebook)"
   ]
  },
  {
   "cell_type": "code",
   "execution_count": 11,
   "id": "e066613a-c664-47c0-8ff5-0495bcaf6512",
   "metadata": {
    "tags": []
   },
   "outputs": [],
   "source": [
    "gradebook[2].append(\"Pass\")"
   ]
  },
  {
   "cell_type": "code",
   "execution_count": 12,
   "id": "b79b0647-52b5-4347-ae12-3a7dfbe737ad",
   "metadata": {
    "tags": []
   },
   "outputs": [
    {
     "name": "stdout",
     "output_type": "stream",
     "text": [
      "[['physics', 98], ['calculus', 97], ['poetry', 'Pass'], ['history', 88], ['computer Science', 100], ['visual Arts', 98]]\n"
     ]
    }
   ],
   "source": [
    "print(gradebook)"
   ]
  },
  {
   "cell_type": "code",
   "execution_count": 13,
   "id": "ff3a561a-8566-4900-af46-ffa44d5d4003",
   "metadata": {
    "tags": []
   },
   "outputs": [],
   "source": [
    "last_semester_gradebook = [[\"politics\", 80], [\"latin\", 96], [\"dance\", 97], [\"architecture\", 65]]"
   ]
  },
  {
   "cell_type": "code",
   "execution_count": 14,
   "id": "71a6602e-b7ee-4bae-9681-325b79a31580",
   "metadata": {
    "tags": []
   },
   "outputs": [],
   "source": [
    "full_gradebook = last_semester_gradebook + gradebook"
   ]
  },
  {
   "cell_type": "code",
   "execution_count": 15,
   "id": "fcca98ea-291f-46fd-8f6a-90f28c72a2bf",
   "metadata": {
    "tags": []
   },
   "outputs": [
    {
     "name": "stdout",
     "output_type": "stream",
     "text": [
      "[['politics', 80], ['latin', 96], ['dance', 97], ['architecture', 65], ['physics', 98], ['calculus', 97], ['poetry', 'Pass'], ['history', 88], ['computer Science', 100], ['visual Arts', 98]]\n"
     ]
    }
   ],
   "source": [
    "print(full_gradebook)"
   ]
  }
 ],
 "metadata": {
  "kernelspec": {
   "display_name": "Python 3 (ipykernel)",
   "language": "python",
   "name": "python3"
  },
  "language_info": {
   "codemirror_mode": {
    "name": "ipython",
    "version": 3
   },
   "file_extension": ".py",
   "mimetype": "text/x-python",
   "name": "python",
   "nbconvert_exporter": "python",
   "pygments_lexer": "ipython3",
   "version": "3.11.4"
  }
 },
 "nbformat": 4,
 "nbformat_minor": 5
}
